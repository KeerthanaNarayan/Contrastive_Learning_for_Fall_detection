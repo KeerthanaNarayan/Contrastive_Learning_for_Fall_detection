{
  "nbformat": 4,
  "nbformat_minor": 0,
  "metadata": {
    "colab": {
      "provenance": [],
      "authorship_tag": "ABX9TyP86Ww+RgNZ/pFtjqMCrFZO",
      "include_colab_link": true
    },
    "kernelspec": {
      "name": "python3",
      "display_name": "Python 3"
    },
    "language_info": {
      "name": "python"
    }
  },
  "cells": [
    {
      "cell_type": "markdown",
      "metadata": {
        "id": "view-in-github",
        "colab_type": "text"
      },
      "source": [
        "<a href=\"https://colab.research.google.com/github/KeerthanaNarayan/Contrastive_Learning_for_Fall_detection/blob/main/Supervised_Learning_for_Fall_detection_ARCO_Dataset.ipynb\" target=\"_parent\"><img src=\"https://colab.research.google.com/assets/colab-badge.svg\" alt=\"Open In Colab\"/></a>"
      ]
    },
    {
      "cell_type": "code",
      "source": [
        "import numpy as np\n",
        "import random\n",
        "def chooseData(org_data, no_of_points):\n",
        "    # Create a copy of the original data to avoid modifying it\n",
        "    shuffled_data = org_data.copy()\n",
        "\n",
        "    # Randomly shuffle the data\n",
        "    np.random.shuffle(shuffled_data)\n",
        "    shuffled_data = shuffled_data.tolist()\n",
        "\n",
        "    reduced_data = random.sample(shuffled_data, no_of_points)\n",
        "\n",
        "    # Split the data and labels\n",
        "    data, labels = np.array(reduced_data)[:, :-1], np.array(reduced_data)[:, -1]\n",
        "\n",
        "    return data, labels"
      ],
      "metadata": {
        "id": "3jNt1bOQ1Yfx"
      },
      "execution_count": 43,
      "outputs": []
    },
    {
      "cell_type": "code",
      "source": [
        "import os\n",
        "import zipfile\n",
        "import pandas as pd\n",
        "\n",
        "zip_path = 'fall-dataset-raw.zip' #zip_path = 'fall-dataset-all.zip'\n",
        "\n",
        "# Extract the CSV files from the zip file\n",
        "with zipfile.ZipFile(zip_path, 'r') as zip_ref:\n",
        "    csv_files = [file for file in zip_ref.namelist() if file.endswith('.csv')]\n",
        "    zip_ref.extractall(members=csv_files)\n",
        "\n",
        "# Read and concatenate the extracted CSV files into a DataFrame\n",
        "data = pd.concat([pd.read_csv(file, encoding='latin-1') for file in csv_files], ignore_index=True)\n",
        "accelerometer_data = data[[\"Acc(X)\", \"Acc(Y)\", \"Acc(Z)\", \"Rot(X)\", \"Rot(Y)\", \"Rot(Z)\", \"Pitch\", \"Roll\", \"Yaw\", \"Timestamp\"]].values\n",
        "labels = list(data[\"Fall\"])#.values\n",
        "# # Standardize the data\n",
        "# scaler = StandardScaler()\n",
        "# standardized_data = scaler.fit_transform(accelerometer_data)\n",
        "\n"
      ],
      "metadata": {
        "id": "_80LCznlAVb6"
      },
      "execution_count": 44,
      "outputs": []
    },
    {
      "cell_type": "code",
      "execution_count": 45,
      "metadata": {
        "id": "2bKUqDQ0-z-a",
        "colab": {
          "base_uri": "https://localhost:8080/"
        },
        "outputId": "50f358f4-eed6-4362-96ba-0b83f34cf293"
      },
      "outputs": [
        {
          "output_type": "stream",
          "name": "stdout",
          "text": [
            "[[ 3.69726562e+00  5.96679688e-01  1.78906250e+00 ...  3.56835938e+02\n",
            "   1.61528564e+12  0.00000000e+00]\n",
            " [ 1.58203125e-01  6.03515625e-01 -1.90917969e-01 ...  3.56835938e+02\n",
            "   1.61528564e+12  0.00000000e+00]\n",
            " [ 3.85742188e-01  4.61914062e-01 -9.37500000e-02 ...  6.41827154e+00\n",
            "   1.61528564e+12  0.00000000e+00]\n",
            " ...\n",
            " [ 1.00585938e+00  3.22265625e-02  1.78710938e-01 ...  3.28777557e+02\n",
            "   1.61254540e+12  0.00000000e+00]\n",
            " [ 1.00488281e+00  3.07617188e-02  1.78710938e-01 ...  3.28762085e+02\n",
            "   1.61254540e+12  0.00000000e+00]\n",
            " [ 1.00146484e+00  2.97851562e-02  1.77246094e-01 ...  3.28750946e+02\n",
            "   1.61254540e+12  0.00000000e+00]]\n",
            "[[ 1.00048828e+00  3.17382812e-02  1.79687500e-01 ...  3.28738281e+02\n",
            "   1.61254540e+12  0.00000000e+00]\n",
            " [ 1.00439453e+00  3.22265625e-02  1.80664062e-01 ...  3.28738281e+02\n",
            "   1.61254540e+12  0.00000000e+00]\n",
            " [ 1.00341797e+00  3.12500000e-02  1.79199219e-01 ...  3.28698181e+02\n",
            "   1.61254540e+12  0.00000000e+00]\n",
            " ...\n",
            " [-3.07617188e-01  1.66015625e-02  9.59960938e-01 ...  3.47207245e+02\n",
            "   1.61254948e+12  1.00000000e+00]\n",
            " [-3.44238281e-01  1.36718750e-02  9.70703125e-01 ...  3.47238678e+02\n",
            "   1.61254948e+12  1.00000000e+00]\n",
            " [-3.44238281e-01 -4.88281250e-03  9.72167969e-01 ...  3.47265228e+02\n",
            "   1.61254948e+12  1.00000000e+00]]\n"
          ]
        }
      ],
      "source": [
        "import pandas as pd\n",
        "from sklearn.model_selection import train_test_split\n",
        "from sklearn.preprocessing import StandardScaler\n",
        "\n",
        "# Load your dataset\n",
        "# train_data = pd.read_csv(\"raw182_Training_Relabeled_Auto_25.csv\")\n",
        "\n",
        "# # Separate features and labels\n",
        "# raw_data = data[[\" ms_accelerometer_x\", \" ms_accelerometer_y\", \" ms_accelerometer_z\"]].values\n",
        "# labels = data[\"outcome\"]\n",
        "\n",
        "num_training_points = 8000\n",
        "num_testing_points = 2000\n",
        "\n",
        "data_with_labels = np.column_stack((accelerometer_data, labels))\n",
        "\n",
        "# Split the data into training and testing sets with an 80:20 ratio\n",
        "split = int(0.8 * len(data_with_labels))\n",
        "train_data = data_with_labels[:split]\n",
        "test_data = data_with_labels[split:]\n",
        "\n",
        "print(train_data)\n",
        "print(test_data)\n",
        "\n"
      ]
    },
    {
      "cell_type": "code",
      "source": [
        "# from sklearn.ensemble import RandomForestClassifier\n",
        "# from sklearn.metrics import accuracy_score\n",
        "\n",
        "# # Initialize and train the model\n",
        "# model = RandomForestClassifier(random_state=42)\n",
        "# model.fit(X_train_scaled, y_train_chosen)\n",
        "\n",
        "# # Make predictions\n",
        "# y_pred = model.predict(X_test_scaled)\n",
        "\n",
        "# # Calculate accuracy\n",
        "# accuracy = accuracy_score(y_test_chosen, y_pred)\n",
        "# print(f\"Accuracy: {accuracy:.2f}\")\n"
      ],
      "metadata": {
        "id": "2TiJOa6y_pf0"
      },
      "execution_count": 46,
      "outputs": []
    },
    {
      "cell_type": "code",
      "source": [
        "from sklearn.ensemble import RandomForestClassifier\n",
        "from sklearn.metrics import accuracy_score, recall_score\n",
        "import numpy as np\n",
        "\n",
        "# Initialize the model\n",
        "model = RandomForestClassifier(random_state=42)\n",
        "\n",
        "# Set the number of iterations\n",
        "num_iterations = 3\n",
        "accuracies = []\n",
        "recalls = []\n",
        "\n",
        "\n",
        "for iteration in range(num_iterations):\n",
        "    #Choose different data for training and testing in every iteration\n",
        "    X_train_chosen, y_train_chosen = chooseData(train_data, num_training_points)\n",
        "    X_test_chosen, y_test_chosen = chooseData(test_data, num_testing_points)\n",
        "\n",
        "    # Standardize features\n",
        "    scaler = StandardScaler()\n",
        "    X_train_scaled = scaler.fit_transform(X_train_chosen)\n",
        "    X_test_scaled = scaler.transform(X_test_chosen)\n",
        "\n",
        "    # Initialize and train the model\n",
        "    model.fit(X_train_scaled, y_train_chosen)\n",
        "\n",
        "    # Make predictions\n",
        "    y_pred = model.predict(X_test_scaled)\n",
        "\n",
        "    # Calculate accuracy\n",
        "    accuracy = accuracy_score(y_test_chosen, y_pred)\n",
        "    accuracies.append(accuracy)\n",
        "\n",
        "    # Calculate recall\n",
        "    recall = recall_score(y_test_chosen, y_pred)\n",
        "    recalls.append(recall)\n",
        "\n",
        "    print(f\"Iteration {iteration+1} - Accuracy: {accuracy:.2f}, Recall: {recall:.2f}\")\n",
        "\n",
        "average_accuracy = np.mean(accuracies)\n",
        "average_recall = np.mean(recalls)\n",
        "\n",
        "print(f\"Average Accuracy across {num_iterations} iterations: {average_accuracy:.2f}\")\n",
        "print(f\"Average Recall across {num_iterations} iterations: {average_recall:.2f}\")"
      ],
      "metadata": {
        "colab": {
          "base_uri": "https://localhost:8080/"
        },
        "id": "p0AF2mC96-7D",
        "outputId": "c81ac203-3cd7-4eea-cc94-9e276f3ca121"
      },
      "execution_count": 47,
      "outputs": [
        {
          "output_type": "stream",
          "name": "stdout",
          "text": [
            "Iteration 1 - Accuracy: 0.93, Recall: 0.95\n",
            "Iteration 2 - Accuracy: 0.94, Recall: 0.94\n",
            "Iteration 3 - Accuracy: 0.94, Recall: 0.95\n",
            "Average Accuracy across 3 iterations: 0.93\n",
            "Average Recall across 3 iterations: 0.95\n"
          ]
        }
      ]
    },
    {
      "cell_type": "code",
      "source": [
        "from sklearn.linear_model import LogisticRegression\n",
        "from sklearn.metrics import accuracy_score\n",
        "\n",
        "# Initialize the logistic regression model\n",
        "logreg_model = LogisticRegression(random_state=42)\n",
        "\n",
        "# Set the number of iterations\n",
        "num_iterations = 3\n",
        "accuracies = []\n",
        "recalls = []\n",
        "\n",
        "for iteration in range(num_iterations):\n",
        "    #Choose different data for training and testing in every iteration\n",
        "    X_train_chosen, y_train_chosen = chooseData(train_data, num_training_points)\n",
        "    X_test_chosen, y_test_chosen = chooseData(test_data, num_testing_points)\n",
        "\n",
        "    # Standardize features\n",
        "    scaler = StandardScaler()\n",
        "    X_train_scaled = scaler.fit_transform(X_train_chosen)\n",
        "    X_test_scaled = scaler.transform(X_test_chosen)\n",
        "\n",
        "    # train the model\n",
        "    logreg_model.fit(X_train_scaled, y_train_chosen)\n",
        "\n",
        "    # Make predictions\n",
        "    y_pred = logreg_model.predict(X_test_scaled)\n",
        "\n",
        "    # Calculate accuracy\n",
        "    accuracy = accuracy_score(y_test_chosen, y_pred)\n",
        "    accuracies.append(accuracy)\n",
        "\n",
        "    # Calculate recall\n",
        "    recall = recall_score(y_test_chosen, y_pred)\n",
        "    recalls.append(recall)\n",
        "\n",
        "    print(f\"Iteration {iteration+1} - Accuracy: {accuracy:.2f}, Recall: {recall:.2f}\")\n",
        "\n",
        "average_accuracy = np.mean(accuracies)\n",
        "average_recall = np.mean(recalls)\n",
        "\n",
        "print(f\"Average Accuracy across {num_iterations} iterations: {average_accuracy:.2f}\")\n",
        "print(f\"Average Recall across {num_iterations} iterations: {average_recall:.2f}\")"
      ],
      "metadata": {
        "colab": {
          "base_uri": "https://localhost:8080/"
        },
        "id": "c-5k29xGbQeU",
        "outputId": "e9e2da0c-ebe5-431e-9c74-8c1bdca66c8e"
      },
      "execution_count": 48,
      "outputs": [
        {
          "output_type": "stream",
          "name": "stdout",
          "text": [
            "Iteration 1 - Accuracy: 0.92, Recall: 0.89\n",
            "Iteration 2 - Accuracy: 0.92, Recall: 0.90\n",
            "Iteration 3 - Accuracy: 0.92, Recall: 0.89\n",
            "Average Accuracy across 3 iterations: 0.92\n",
            "Average Recall across 3 iterations: 0.89\n"
          ]
        }
      ]
    },
    {
      "cell_type": "code",
      "source": [
        "from sklearn.neighbors import KNeighborsClassifier\n",
        "from sklearn.metrics import accuracy_score\n",
        "\n",
        "# Initialize and train the KNN model\n",
        "k = 5  # Number of neighbors\n",
        "knn_model = KNeighborsClassifier(n_neighbors=k)\n",
        "\n",
        "# Set the number of iterations\n",
        "num_iterations = 3\n",
        "accuracies = []\n",
        "recalls = []\n",
        "\n",
        "for iteration in range(num_iterations):\n",
        "    #Choose different data for training and testing in every iteration\n",
        "    X_train_chosen, y_train_chosen = chooseData(train_data, num_training_points)\n",
        "    X_test_chosen, y_test_chosen = chooseData(test_data, num_testing_points)\n",
        "\n",
        "    # Standardize features\n",
        "    scaler = StandardScaler()\n",
        "    X_train_scaled = scaler.fit_transform(X_train_chosen)\n",
        "    X_test_scaled = scaler.transform(X_test_chosen)\n",
        "\n",
        "    # train the model\n",
        "    knn_model.fit(X_train_scaled, y_train_chosen)\n",
        "\n",
        "    # Make predictions\n",
        "    y_pred = knn_model.predict(X_test_scaled)\n",
        "\n",
        "    # Calculate accuracy\n",
        "    accuracy = accuracy_score(y_test_chosen, y_pred)\n",
        "    accuracies.append(accuracy)\n",
        "\n",
        "    # Calculate recall\n",
        "    recall = recall_score(y_test_chosen, y_pred)\n",
        "    recalls.append(recall)\n",
        "\n",
        "    print(f\"Iteration {iteration+1} - Accuracy: {accuracy:.2f}, Recall: {recall:.2f}\")\n",
        "\n",
        "average_accuracy = np.mean(accuracies)\n",
        "average_recall = np.mean(recalls)\n",
        "\n",
        "print(f\"Average Accuracy across {num_iterations} iterations: {average_accuracy:.2f}\")\n",
        "print(f\"Average Recall across {num_iterations} iterations: {average_recall:.2f}\")"
      ],
      "metadata": {
        "colab": {
          "base_uri": "https://localhost:8080/"
        },
        "id": "ANGKT0JBc68L",
        "outputId": "f30befdd-307f-4723-88c1-3f244d0db9a8"
      },
      "execution_count": 50,
      "outputs": [
        {
          "output_type": "stream",
          "name": "stdout",
          "text": [
            "Iteration 1 - Accuracy: 0.92, Recall: 0.89\n",
            "Iteration 2 - Accuracy: 0.91, Recall: 0.89\n",
            "Iteration 3 - Accuracy: 0.87, Recall: 0.89\n",
            "Average Accuracy across 3 iterations: 0.90\n",
            "Average Recall across 3 iterations: 0.89\n"
          ]
        }
      ]
    },
    {
      "cell_type": "code",
      "source": [
        "from sklearn.naive_bayes import GaussianNB\n",
        "from sklearn.metrics import accuracy_score\n",
        "\n",
        "# Initialize and train the Naive Bayes model\n",
        "nb_model = GaussianNB()\n",
        "\n",
        "# Set the number of iterations\n",
        "num_iterations = 3\n",
        "accuracies = []\n",
        "recalls = []\n",
        "\n",
        "for iteration in range(num_iterations):\n",
        "    #Choose different data for training and testing in every iteration\n",
        "    X_train_chosen, y_train_chosen = chooseData(train_data, num_training_points)\n",
        "    X_test_chosen, y_test_chosen = chooseData(test_data, num_testing_points)\n",
        "\n",
        "    # Standardize features\n",
        "    scaler = StandardScaler()\n",
        "    X_train_scaled = scaler.fit_transform(X_train_chosen)\n",
        "    X_test_scaled = scaler.transform(X_test_chosen)\n",
        "\n",
        "    # train the model\n",
        "    nb_model.fit(X_train_scaled, y_train_chosen)\n",
        "\n",
        "    # Make predictions\n",
        "    y_pred = nb_model.predict(X_test_scaled)\n",
        "\n",
        "    # Calculate accuracy\n",
        "    accuracy = accuracy_score(y_test_chosen, y_pred)\n",
        "    accuracies.append(accuracy)\n",
        "\n",
        "    # Calculate recall\n",
        "    recall = recall_score(y_test_chosen, y_pred)\n",
        "    recalls.append(recall)\n",
        "\n",
        "    print(f\"Iteration {iteration+1} - Accuracy: {accuracy:.2f}, Recall: {recall:.2f}\")\n",
        "\n",
        "average_accuracy = np.mean(accuracies)\n",
        "average_recall = np.mean(recalls)\n",
        "\n",
        "print(f\"Average Accuracy across {num_iterations} iterations: {average_accuracy:.2f}\")\n",
        "print(f\"Average Recall across {num_iterations} iterations: {average_recall:.2f}\")"
      ],
      "metadata": {
        "colab": {
          "base_uri": "https://localhost:8080/"
        },
        "id": "36LiemXmih2W",
        "outputId": "a2149563-7581-41d9-d93a-05fde7d305ce"
      },
      "execution_count": 53,
      "outputs": [
        {
          "output_type": "stream",
          "name": "stdout",
          "text": [
            "Iteration 1 - Accuracy: 0.93, Recall: 0.96\n",
            "Iteration 2 - Accuracy: 0.94, Recall: 0.95\n",
            "Iteration 3 - Accuracy: 0.94, Recall: 0.97\n",
            "Average Accuracy across 3 iterations: 0.94\n",
            "Average Recall across 3 iterations: 0.96\n"
          ]
        }
      ]
    },
    {
      "cell_type": "code",
      "source": [],
      "metadata": {
        "id": "gST8oOlyx5X5"
      },
      "execution_count": null,
      "outputs": []
    }
  ]
}